{
  "nbformat": 4,
  "nbformat_minor": 0,
  "metadata": {
    "colab": {
      "provenance": [],
      "collapsed_sections": [
        "HOmqxeFDM2kh",
        "YVD-ZzVWoOp7",
        "QQIGbuN99UJ_",
        "3H4KpxHeoTH3"
      ],
      "authorship_tag": "ABX9TyMgMrzyJnaBgrATbBaFAkl7",
      "include_colab_link": true
    },
    "kernelspec": {
      "name": "python3",
      "display_name": "Python 3"
    },
    "language_info": {
      "name": "python"
    }
  },
  "cells": [
    {
      "cell_type": "markdown",
      "metadata": {
        "id": "view-in-github",
        "colab_type": "text"
      },
      "source": [
        "<a href=\"https://colab.research.google.com/github/JoaqSM/ML_course-colab-files/blob/main/Proyecto_Final_ML.ipynb\" target=\"_parent\"><img src=\"https://colab.research.google.com/assets/colab-badge.svg\" alt=\"Open In Colab\"/></a>"
      ]
    },
    {
      "cell_type": "markdown",
      "source": [],
      "metadata": {
        "id": "6jskKQyuskOo"
      }
    },
    {
      "cell_type": "code",
      "source": [
        "import pandas as pd\n",
        "import numpy as np\n",
        "import matplotlib.pyplot as plt\n",
        "import seaborn as sns"
      ],
      "metadata": {
        "id": "8drAL-nMsoQq"
      },
      "execution_count": 2,
      "outputs": []
    },
    {
      "cell_type": "markdown",
      "source": [
        "# 1.- Obtención de Datos"
      ],
      "metadata": {
        "id": "HOmqxeFDM2kh"
      }
    },
    {
      "cell_type": "markdown",
      "source": [
        "Importar ml-final-project-data.xlsx a dataframes de pandas"
      ],
      "metadata": {
        "id": "F4DhggrXnfym"
      }
    },
    {
      "cell_type": "code",
      "execution_count": 3,
      "metadata": {
        "id": "tWJQrcV8MrJx"
      },
      "outputs": [],
      "source": [
        "# prompt: open ml-final-project-data.xlsx into pandas dataframes\n",
        "import pandas as pd\n",
        "\n",
        "df = pd.read_excel('ml-final-project-data.xlsx', sheet_name='A')\n"
      ]
    },
    {
      "cell_type": "code",
      "source": [
        "# prompt: print headers of dataframes\n",
        "\n",
        "df.head()"
      ],
      "metadata": {
        "colab": {
          "base_uri": "https://localhost:8080/",
          "height": 0
        },
        "id": "0Ev95SMdNSXS",
        "outputId": "cb253b3a-6156-46d0-b791-48bde9c8aac8"
      },
      "execution_count": 4,
      "outputs": [
        {
          "output_type": "execute_result",
          "data": {
            "text/plain": [
              "     Y          X1          X2          X3          X4          X5  \\\n",
              "0  0.0  945.881189  949.455569  948.320961  947.627981  949.004393   \n",
              "1 -5.4  944.007685  947.313612  946.309784  945.522816  947.208432   \n",
              "2 -5.3  943.909065  947.140483  946.488818  945.528897  947.093910   \n",
              "3 -4.7  943.010422  946.282655  945.351124  944.149768  946.203153   \n",
              "4 -4.7  942.374836  946.244955  945.080812  944.303151  945.935353   \n",
              "\n",
              "           X6          X7          X8          X9  ...      X471      X472  \\\n",
              "0  949.162855  947.636857  947.405937  948.388411  ...  3.718121  3.952703   \n",
              "1  947.308945  945.525300  945.264026  946.103164  ...  3.624161  3.898649   \n",
              "2  946.761374  945.355980  945.103218  946.127936  ...  3.704698  3.925676   \n",
              "3  945.855203  944.161602  944.331529  944.721618  ...  3.704698  3.885135   \n",
              "4  945.831117  944.545984  944.044796  944.582048  ...  3.651007  3.885135   \n",
              "\n",
              "       X473      X474      X475      X476      X477      X478      X479  \\\n",
              "0  4.108844  3.931507  3.979310  3.902778  3.790210  4.253521  3.900709   \n",
              "1  4.081633  3.863014  3.965517  3.861111  3.748252  4.183099  3.815603   \n",
              "2  4.108844  3.883562  3.979310  3.861111  3.741259  4.232394  3.879433   \n",
              "3  4.054422  3.849315  3.965517  3.861111  3.734266  4.197183  3.801418   \n",
              "4  4.068027  3.863014  3.855172  3.833333  3.762238  4.169014  3.829787   \n",
              "\n",
              "       X480  \n",
              "0  4.185714  \n",
              "1  4.114286  \n",
              "2  4.128571  \n",
              "3  4.114286  \n",
              "4  4.171429  \n",
              "\n",
              "[5 rows x 481 columns]"
            ],
            "text/html": [
              "\n",
              "  <div id=\"df-f9ae195c-3004-401f-bd63-2d5d53193e02\" class=\"colab-df-container\">\n",
              "    <div>\n",
              "<style scoped>\n",
              "    .dataframe tbody tr th:only-of-type {\n",
              "        vertical-align: middle;\n",
              "    }\n",
              "\n",
              "    .dataframe tbody tr th {\n",
              "        vertical-align: top;\n",
              "    }\n",
              "\n",
              "    .dataframe thead th {\n",
              "        text-align: right;\n",
              "    }\n",
              "</style>\n",
              "<table border=\"1\" class=\"dataframe\">\n",
              "  <thead>\n",
              "    <tr style=\"text-align: right;\">\n",
              "      <th></th>\n",
              "      <th>Y</th>\n",
              "      <th>X1</th>\n",
              "      <th>X2</th>\n",
              "      <th>X3</th>\n",
              "      <th>X4</th>\n",
              "      <th>X5</th>\n",
              "      <th>X6</th>\n",
              "      <th>X7</th>\n",
              "      <th>X8</th>\n",
              "      <th>X9</th>\n",
              "      <th>...</th>\n",
              "      <th>X471</th>\n",
              "      <th>X472</th>\n",
              "      <th>X473</th>\n",
              "      <th>X474</th>\n",
              "      <th>X475</th>\n",
              "      <th>X476</th>\n",
              "      <th>X477</th>\n",
              "      <th>X478</th>\n",
              "      <th>X479</th>\n",
              "      <th>X480</th>\n",
              "    </tr>\n",
              "  </thead>\n",
              "  <tbody>\n",
              "    <tr>\n",
              "      <th>0</th>\n",
              "      <td>0.0</td>\n",
              "      <td>945.881189</td>\n",
              "      <td>949.455569</td>\n",
              "      <td>948.320961</td>\n",
              "      <td>947.627981</td>\n",
              "      <td>949.004393</td>\n",
              "      <td>949.162855</td>\n",
              "      <td>947.636857</td>\n",
              "      <td>947.405937</td>\n",
              "      <td>948.388411</td>\n",
              "      <td>...</td>\n",
              "      <td>3.718121</td>\n",
              "      <td>3.952703</td>\n",
              "      <td>4.108844</td>\n",
              "      <td>3.931507</td>\n",
              "      <td>3.979310</td>\n",
              "      <td>3.902778</td>\n",
              "      <td>3.790210</td>\n",
              "      <td>4.253521</td>\n",
              "      <td>3.900709</td>\n",
              "      <td>4.185714</td>\n",
              "    </tr>\n",
              "    <tr>\n",
              "      <th>1</th>\n",
              "      <td>-5.4</td>\n",
              "      <td>944.007685</td>\n",
              "      <td>947.313612</td>\n",
              "      <td>946.309784</td>\n",
              "      <td>945.522816</td>\n",
              "      <td>947.208432</td>\n",
              "      <td>947.308945</td>\n",
              "      <td>945.525300</td>\n",
              "      <td>945.264026</td>\n",
              "      <td>946.103164</td>\n",
              "      <td>...</td>\n",
              "      <td>3.624161</td>\n",
              "      <td>3.898649</td>\n",
              "      <td>4.081633</td>\n",
              "      <td>3.863014</td>\n",
              "      <td>3.965517</td>\n",
              "      <td>3.861111</td>\n",
              "      <td>3.748252</td>\n",
              "      <td>4.183099</td>\n",
              "      <td>3.815603</td>\n",
              "      <td>4.114286</td>\n",
              "    </tr>\n",
              "    <tr>\n",
              "      <th>2</th>\n",
              "      <td>-5.3</td>\n",
              "      <td>943.909065</td>\n",
              "      <td>947.140483</td>\n",
              "      <td>946.488818</td>\n",
              "      <td>945.528897</td>\n",
              "      <td>947.093910</td>\n",
              "      <td>946.761374</td>\n",
              "      <td>945.355980</td>\n",
              "      <td>945.103218</td>\n",
              "      <td>946.127936</td>\n",
              "      <td>...</td>\n",
              "      <td>3.704698</td>\n",
              "      <td>3.925676</td>\n",
              "      <td>4.108844</td>\n",
              "      <td>3.883562</td>\n",
              "      <td>3.979310</td>\n",
              "      <td>3.861111</td>\n",
              "      <td>3.741259</td>\n",
              "      <td>4.232394</td>\n",
              "      <td>3.879433</td>\n",
              "      <td>4.128571</td>\n",
              "    </tr>\n",
              "    <tr>\n",
              "      <th>3</th>\n",
              "      <td>-4.7</td>\n",
              "      <td>943.010422</td>\n",
              "      <td>946.282655</td>\n",
              "      <td>945.351124</td>\n",
              "      <td>944.149768</td>\n",
              "      <td>946.203153</td>\n",
              "      <td>945.855203</td>\n",
              "      <td>944.161602</td>\n",
              "      <td>944.331529</td>\n",
              "      <td>944.721618</td>\n",
              "      <td>...</td>\n",
              "      <td>3.704698</td>\n",
              "      <td>3.885135</td>\n",
              "      <td>4.054422</td>\n",
              "      <td>3.849315</td>\n",
              "      <td>3.965517</td>\n",
              "      <td>3.861111</td>\n",
              "      <td>3.734266</td>\n",
              "      <td>4.197183</td>\n",
              "      <td>3.801418</td>\n",
              "      <td>4.114286</td>\n",
              "    </tr>\n",
              "    <tr>\n",
              "      <th>4</th>\n",
              "      <td>-4.7</td>\n",
              "      <td>942.374836</td>\n",
              "      <td>946.244955</td>\n",
              "      <td>945.080812</td>\n",
              "      <td>944.303151</td>\n",
              "      <td>945.935353</td>\n",
              "      <td>945.831117</td>\n",
              "      <td>944.545984</td>\n",
              "      <td>944.044796</td>\n",
              "      <td>944.582048</td>\n",
              "      <td>...</td>\n",
              "      <td>3.651007</td>\n",
              "      <td>3.885135</td>\n",
              "      <td>4.068027</td>\n",
              "      <td>3.863014</td>\n",
              "      <td>3.855172</td>\n",
              "      <td>3.833333</td>\n",
              "      <td>3.762238</td>\n",
              "      <td>4.169014</td>\n",
              "      <td>3.829787</td>\n",
              "      <td>4.171429</td>\n",
              "    </tr>\n",
              "  </tbody>\n",
              "</table>\n",
              "<p>5 rows × 481 columns</p>\n",
              "</div>\n",
              "    <div class=\"colab-df-buttons\">\n",
              "\n",
              "  <div class=\"colab-df-container\">\n",
              "    <button class=\"colab-df-convert\" onclick=\"convertToInteractive('df-f9ae195c-3004-401f-bd63-2d5d53193e02')\"\n",
              "            title=\"Convert this dataframe to an interactive table.\"\n",
              "            style=\"display:none;\">\n",
              "\n",
              "  <svg xmlns=\"http://www.w3.org/2000/svg\" height=\"24px\" viewBox=\"0 -960 960 960\">\n",
              "    <path d=\"M120-120v-720h720v720H120Zm60-500h600v-160H180v160Zm220 220h160v-160H400v160Zm0 220h160v-160H400v160ZM180-400h160v-160H180v160Zm440 0h160v-160H620v160ZM180-180h160v-160H180v160Zm440 0h160v-160H620v160Z\"/>\n",
              "  </svg>\n",
              "    </button>\n",
              "\n",
              "  <style>\n",
              "    .colab-df-container {\n",
              "      display:flex;\n",
              "      gap: 12px;\n",
              "    }\n",
              "\n",
              "    .colab-df-convert {\n",
              "      background-color: #E8F0FE;\n",
              "      border: none;\n",
              "      border-radius: 50%;\n",
              "      cursor: pointer;\n",
              "      display: none;\n",
              "      fill: #1967D2;\n",
              "      height: 32px;\n",
              "      padding: 0 0 0 0;\n",
              "      width: 32px;\n",
              "    }\n",
              "\n",
              "    .colab-df-convert:hover {\n",
              "      background-color: #E2EBFA;\n",
              "      box-shadow: 0px 1px 2px rgba(60, 64, 67, 0.3), 0px 1px 3px 1px rgba(60, 64, 67, 0.15);\n",
              "      fill: #174EA6;\n",
              "    }\n",
              "\n",
              "    .colab-df-buttons div {\n",
              "      margin-bottom: 4px;\n",
              "    }\n",
              "\n",
              "    [theme=dark] .colab-df-convert {\n",
              "      background-color: #3B4455;\n",
              "      fill: #D2E3FC;\n",
              "    }\n",
              "\n",
              "    [theme=dark] .colab-df-convert:hover {\n",
              "      background-color: #434B5C;\n",
              "      box-shadow: 0px 1px 3px 1px rgba(0, 0, 0, 0.15);\n",
              "      filter: drop-shadow(0px 1px 2px rgba(0, 0, 0, 0.3));\n",
              "      fill: #FFFFFF;\n",
              "    }\n",
              "  </style>\n",
              "\n",
              "    <script>\n",
              "      const buttonEl =\n",
              "        document.querySelector('#df-f9ae195c-3004-401f-bd63-2d5d53193e02 button.colab-df-convert');\n",
              "      buttonEl.style.display =\n",
              "        google.colab.kernel.accessAllowed ? 'block' : 'none';\n",
              "\n",
              "      async function convertToInteractive(key) {\n",
              "        const element = document.querySelector('#df-f9ae195c-3004-401f-bd63-2d5d53193e02');\n",
              "        const dataTable =\n",
              "          await google.colab.kernel.invokeFunction('convertToInteractive',\n",
              "                                                    [key], {});\n",
              "        if (!dataTable) return;\n",
              "\n",
              "        const docLinkHtml = 'Like what you see? Visit the ' +\n",
              "          '<a target=\"_blank\" href=https://colab.research.google.com/notebooks/data_table.ipynb>data table notebook</a>'\n",
              "          + ' to learn more about interactive tables.';\n",
              "        element.innerHTML = '';\n",
              "        dataTable['output_type'] = 'display_data';\n",
              "        await google.colab.output.renderOutput(dataTable, element);\n",
              "        const docLink = document.createElement('div');\n",
              "        docLink.innerHTML = docLinkHtml;\n",
              "        element.appendChild(docLink);\n",
              "      }\n",
              "    </script>\n",
              "  </div>\n",
              "\n",
              "\n",
              "<div id=\"df-8ec88dac-4152-4f0c-9545-7bd314a5dd49\">\n",
              "  <button class=\"colab-df-quickchart\" onclick=\"quickchart('df-8ec88dac-4152-4f0c-9545-7bd314a5dd49')\"\n",
              "            title=\"Suggest charts\"\n",
              "            style=\"display:none;\">\n",
              "\n",
              "<svg xmlns=\"http://www.w3.org/2000/svg\" height=\"24px\"viewBox=\"0 0 24 24\"\n",
              "     width=\"24px\">\n",
              "    <g>\n",
              "        <path d=\"M19 3H5c-1.1 0-2 .9-2 2v14c0 1.1.9 2 2 2h14c1.1 0 2-.9 2-2V5c0-1.1-.9-2-2-2zM9 17H7v-7h2v7zm4 0h-2V7h2v10zm4 0h-2v-4h2v4z\"/>\n",
              "    </g>\n",
              "</svg>\n",
              "  </button>\n",
              "\n",
              "<style>\n",
              "  .colab-df-quickchart {\n",
              "      --bg-color: #E8F0FE;\n",
              "      --fill-color: #1967D2;\n",
              "      --hover-bg-color: #E2EBFA;\n",
              "      --hover-fill-color: #174EA6;\n",
              "      --disabled-fill-color: #AAA;\n",
              "      --disabled-bg-color: #DDD;\n",
              "  }\n",
              "\n",
              "  [theme=dark] .colab-df-quickchart {\n",
              "      --bg-color: #3B4455;\n",
              "      --fill-color: #D2E3FC;\n",
              "      --hover-bg-color: #434B5C;\n",
              "      --hover-fill-color: #FFFFFF;\n",
              "      --disabled-bg-color: #3B4455;\n",
              "      --disabled-fill-color: #666;\n",
              "  }\n",
              "\n",
              "  .colab-df-quickchart {\n",
              "    background-color: var(--bg-color);\n",
              "    border: none;\n",
              "    border-radius: 50%;\n",
              "    cursor: pointer;\n",
              "    display: none;\n",
              "    fill: var(--fill-color);\n",
              "    height: 32px;\n",
              "    padding: 0;\n",
              "    width: 32px;\n",
              "  }\n",
              "\n",
              "  .colab-df-quickchart:hover {\n",
              "    background-color: var(--hover-bg-color);\n",
              "    box-shadow: 0 1px 2px rgba(60, 64, 67, 0.3), 0 1px 3px 1px rgba(60, 64, 67, 0.15);\n",
              "    fill: var(--button-hover-fill-color);\n",
              "  }\n",
              "\n",
              "  .colab-df-quickchart-complete:disabled,\n",
              "  .colab-df-quickchart-complete:disabled:hover {\n",
              "    background-color: var(--disabled-bg-color);\n",
              "    fill: var(--disabled-fill-color);\n",
              "    box-shadow: none;\n",
              "  }\n",
              "\n",
              "  .colab-df-spinner {\n",
              "    border: 2px solid var(--fill-color);\n",
              "    border-color: transparent;\n",
              "    border-bottom-color: var(--fill-color);\n",
              "    animation:\n",
              "      spin 1s steps(1) infinite;\n",
              "  }\n",
              "\n",
              "  @keyframes spin {\n",
              "    0% {\n",
              "      border-color: transparent;\n",
              "      border-bottom-color: var(--fill-color);\n",
              "      border-left-color: var(--fill-color);\n",
              "    }\n",
              "    20% {\n",
              "      border-color: transparent;\n",
              "      border-left-color: var(--fill-color);\n",
              "      border-top-color: var(--fill-color);\n",
              "    }\n",
              "    30% {\n",
              "      border-color: transparent;\n",
              "      border-left-color: var(--fill-color);\n",
              "      border-top-color: var(--fill-color);\n",
              "      border-right-color: var(--fill-color);\n",
              "    }\n",
              "    40% {\n",
              "      border-color: transparent;\n",
              "      border-right-color: var(--fill-color);\n",
              "      border-top-color: var(--fill-color);\n",
              "    }\n",
              "    60% {\n",
              "      border-color: transparent;\n",
              "      border-right-color: var(--fill-color);\n",
              "    }\n",
              "    80% {\n",
              "      border-color: transparent;\n",
              "      border-right-color: var(--fill-color);\n",
              "      border-bottom-color: var(--fill-color);\n",
              "    }\n",
              "    90% {\n",
              "      border-color: transparent;\n",
              "      border-bottom-color: var(--fill-color);\n",
              "    }\n",
              "  }\n",
              "</style>\n",
              "\n",
              "  <script>\n",
              "    async function quickchart(key) {\n",
              "      const quickchartButtonEl =\n",
              "        document.querySelector('#' + key + ' button');\n",
              "      quickchartButtonEl.disabled = true;  // To prevent multiple clicks.\n",
              "      quickchartButtonEl.classList.add('colab-df-spinner');\n",
              "      try {\n",
              "        const charts = await google.colab.kernel.invokeFunction(\n",
              "            'suggestCharts', [key], {});\n",
              "      } catch (error) {\n",
              "        console.error('Error during call to suggestCharts:', error);\n",
              "      }\n",
              "      quickchartButtonEl.classList.remove('colab-df-spinner');\n",
              "      quickchartButtonEl.classList.add('colab-df-quickchart-complete');\n",
              "    }\n",
              "    (() => {\n",
              "      let quickchartButtonEl =\n",
              "        document.querySelector('#df-8ec88dac-4152-4f0c-9545-7bd314a5dd49 button');\n",
              "      quickchartButtonEl.style.display =\n",
              "        google.colab.kernel.accessAllowed ? 'block' : 'none';\n",
              "    })();\n",
              "  </script>\n",
              "</div>\n",
              "\n",
              "    </div>\n",
              "  </div>\n"
            ]
          },
          "metadata": {},
          "execution_count": 4
        }
      ]
    },
    {
      "cell_type": "code",
      "source": [
        "df.shape"
      ],
      "metadata": {
        "colab": {
          "base_uri": "https://localhost:8080/"
        },
        "id": "WlpmQj0ixD93",
        "outputId": "14656e69-2f0e-4510-83ee-a66d489b7dc3"
      },
      "execution_count": 5,
      "outputs": [
        {
          "output_type": "execute_result",
          "data": {
            "text/plain": [
              "(42, 481)"
            ]
          },
          "metadata": {},
          "execution_count": 5
        }
      ]
    },
    {
      "cell_type": "markdown",
      "source": [
        "# 2.- Procesamiento de Datos"
      ],
      "metadata": {
        "id": "ebrQOtJ2NHly"
      }
    },
    {
      "cell_type": "markdown",
      "source": [
        "## Datos faltantes"
      ],
      "metadata": {
        "id": "YVD-ZzVWoOp7"
      }
    },
    {
      "cell_type": "markdown",
      "source": [
        "Se revisa el número de valores faltantes por columnas"
      ],
      "metadata": {
        "id": "iYKAHHDBnp2v"
      }
    },
    {
      "cell_type": "code",
      "source": [
        "# Checking for missing values, sum of missing values per column\n",
        "\n",
        "df.isnull().sum()\n"
      ],
      "metadata": {
        "colab": {
          "base_uri": "https://localhost:8080/"
        },
        "id": "fCcie04iNKCr",
        "outputId": "f484d96a-22af-4fea-f236-8562a307b52c"
      },
      "execution_count": 6,
      "outputs": [
        {
          "output_type": "execute_result",
          "data": {
            "text/plain": [
              "Y       0\n",
              "X1      0\n",
              "X2      0\n",
              "X3      0\n",
              "X4      0\n",
              "       ..\n",
              "X476    0\n",
              "X477    0\n",
              "X478    0\n",
              "X479    0\n",
              "X480    0\n",
              "Length: 481, dtype: int64"
            ]
          },
          "metadata": {},
          "execution_count": 6
        }
      ]
    },
    {
      "cell_type": "markdown",
      "source": [
        "Se revisa el número de valores faltantes en general"
      ],
      "metadata": {
        "id": "m2wcbSyPnvlY"
      }
    },
    {
      "cell_type": "code",
      "source": [
        "# Checking for missing values, sum of all missing values}\n",
        "\n",
        "df.isnull().sum().sum()"
      ],
      "metadata": {
        "colab": {
          "base_uri": "https://localhost:8080/"
        },
        "id": "Xf-DwMB6mx2S",
        "outputId": "bf630cf3-5b67-4c72-d0bc-af60054e7292"
      },
      "execution_count": 7,
      "outputs": [
        {
          "output_type": "execute_result",
          "data": {
            "text/plain": [
              "0"
            ]
          },
          "metadata": {},
          "execution_count": 7
        }
      ]
    },
    {
      "cell_type": "markdown",
      "source": [
        "Se determina que el dataset no posee valores faltantes"
      ],
      "metadata": {
        "id": "3QaN3N2wnCeQ"
      }
    },
    {
      "cell_type": "markdown",
      "source": [
        "## Division X e y"
      ],
      "metadata": {
        "id": "-iwuy7HmDMmS"
      }
    },
    {
      "cell_type": "code",
      "source": [
        "df_y = pd.DataFrame(df['Y'])\n",
        "df_X = df.drop(columns=['Y'])"
      ],
      "metadata": {
        "id": "TQnbJ-4eDI36"
      },
      "execution_count": 8,
      "outputs": []
    },
    {
      "cell_type": "markdown",
      "source": [
        "## Normalización Preliminar"
      ],
      "metadata": {
        "id": "QQIGbuN99UJ_"
      }
    },
    {
      "cell_type": "code",
      "source": [
        "def min_max_normalization(df):\n",
        "  normalized_df = (df-df.min())/(df.max()-df.min())\n",
        "  return normalized_df\n",
        "\n",
        "normalized_df = min_max_normalization(df_X)"
      ],
      "metadata": {
        "id": "JCQiEJIz9Wz5"
      },
      "execution_count": 9,
      "outputs": []
    },
    {
      "cell_type": "code",
      "source": [
        "normalized_df.shape"
      ],
      "metadata": {
        "colab": {
          "base_uri": "https://localhost:8080/"
        },
        "id": "qp9ssxUQ-bWo",
        "outputId": "7ec98579-f0f5-4c01-fef7-3eb3b391bec3"
      },
      "execution_count": 10,
      "outputs": [
        {
          "output_type": "execute_result",
          "data": {
            "text/plain": [
              "(42, 480)"
            ]
          },
          "metadata": {},
          "execution_count": 10
        }
      ]
    },
    {
      "cell_type": "markdown",
      "source": [
        "## Datos atípicos"
      ],
      "metadata": {
        "id": "3H4KpxHeoTH3"
      }
    },
    {
      "cell_type": "markdown",
      "source": [
        "Se detectan datos atípicos en cada variable de forma independiente de acuerdo al Z-score con cuantas desviasiones estándar se necesiten para eliminar a lo más un 5% de la información."
      ],
      "metadata": {
        "id": "-NinSG60qaH3"
      }
    },
    {
      "cell_type": "code",
      "source": [
        "from scipy import stats\n",
        "\n",
        "def detect_outliers_df(df, threshold=3):\n",
        "    # Ensure the input is a DataFrame\n",
        "    if not isinstance(df, pd.DataFrame):\n",
        "        raise ValueError(\"Input must be a Pandas DataFrame\")\n",
        "\n",
        "    # Apply Z-score to each column\n",
        "    z_scores = np.abs(stats.zscore(df))\n",
        "\n",
        "    # Create a DataFrame with the same shape as the input, where True indicates an outlier\n",
        "    outliers_df = pd.DataFrame(z_scores > threshold, columns=df.columns, index=df.index)\n",
        "\n",
        "    return outliers_df\n",
        "\n",
        "def remove_outliers(df, threshold=3):\n",
        "    # Detect outliers using the Z-score\n",
        "    outliers_df = detect_outliers_df(df, threshold)\n",
        "\n",
        "    # Use boolean indexing to filter out rows with outliers\n",
        "    df_no_outliers = df[~outliers_df.any(axis=1)]\n",
        "\n",
        "    return df_no_outliers"
      ],
      "metadata": {
        "id": "dlvBG_MyrNUs"
      },
      "execution_count": 11,
      "outputs": []
    },
    {
      "cell_type": "markdown",
      "source": [
        "Se eliminan todas las filas que posean al menos un dato atípico."
      ],
      "metadata": {
        "id": "3rt9kwSw5zjh"
      }
    },
    {
      "cell_type": "code",
      "source": [
        "no_outliers = remove_outliers(normalized_df, 5)"
      ],
      "metadata": {
        "id": "GFq0BjTN1q7I"
      },
      "execution_count": 12,
      "outputs": []
    },
    {
      "cell_type": "markdown",
      "source": [
        "Porcentaje de filas conservadas con cinco desviaciones estándares"
      ],
      "metadata": {
        "id": "x9vNxCyT49kZ"
      }
    },
    {
      "cell_type": "code",
      "source": [
        "len(no_outliers)/len(normalized_df)"
      ],
      "metadata": {
        "colab": {
          "base_uri": "https://localhost:8080/"
        },
        "id": "aj646LVs19NY",
        "outputId": "5315dcbc-f4b5-4d84-a6bf-0200030689f1"
      },
      "execution_count": 13,
      "outputs": [
        {
          "output_type": "execute_result",
          "data": {
            "text/plain": [
              "0.9523809523809523"
            ]
          },
          "metadata": {},
          "execution_count": 13
        }
      ]
    },
    {
      "cell_type": "markdown",
      "source": [
        "Con cinco desviaciones estándares se pierde un 4.77% del número de filas."
      ],
      "metadata": {
        "id": "5iK_QEM0_sa5"
      }
    },
    {
      "cell_type": "markdown",
      "source": [
        "## Normalización post-procesamiento"
      ],
      "metadata": {
        "id": "dasZt_h1ADAj"
      }
    },
    {
      "cell_type": "code",
      "source": [
        "df_X = min_max_normalization(normalized_df)\n",
        "df_X.head()"
      ],
      "metadata": {
        "colab": {
          "base_uri": "https://localhost:8080/",
          "height": 0
        },
        "id": "h_RJrhFPAHBh",
        "outputId": "eb4c594b-9f2d-4bfb-f12e-7306b0f8615d"
      },
      "execution_count": 14,
      "outputs": [
        {
          "output_type": "execute_result",
          "data": {
            "text/plain": [
              "         X1        X2        X3        X4        X5        X6        X7  \\\n",
              "0  0.668725  0.695764  0.670450  0.674428  0.693568  0.667318  0.657697   \n",
              "1  0.388350  0.394300  0.392937  0.343019  0.426153  0.403011  0.363292   \n",
              "2  0.373591  0.369933  0.417641  0.343976  0.409101  0.324945  0.339684   \n",
              "3  0.239107  0.249200  0.260656  0.126865  0.276469  0.195755  0.173157   \n",
              "4  0.143989  0.243894  0.223357  0.151011  0.236594  0.192321  0.226750   \n",
              "\n",
              "         X8        X9       X10  ...      X471      X472  X473      X474  \\\n",
              "0  0.642340  0.685834  0.696850  ...  0.666667  0.750000  0.72  0.727273   \n",
              "1  0.325556  0.360339  0.396583  ...  0.000000  0.464286  0.56  0.272727   \n",
              "2  0.301773  0.363867  0.375773  ...  0.571429  0.607143  0.72  0.409091   \n",
              "3  0.187642  0.163560  0.223207  ...  0.571429  0.392857  0.40  0.181818   \n",
              "4  0.145235  0.143681  0.263792  ...  0.190476  0.392857  0.48  0.272727   \n",
              "\n",
              "       X475      X476      X477      X478      X479  X480  \n",
              "0  0.750000  0.705882  0.695652  0.727273  0.714286  0.72  \n",
              "1  0.666667  0.352941  0.434783  0.424242  0.142857  0.32  \n",
              "2  0.750000  0.352941  0.391304  0.636364  0.571429  0.40  \n",
              "3  0.666667  0.352941  0.347826  0.484848  0.047619  0.32  \n",
              "4  0.000000  0.117647  0.521739  0.363636  0.238095  0.64  \n",
              "\n",
              "[5 rows x 480 columns]"
            ],
            "text/html": [
              "\n",
              "  <div id=\"df-063c4f68-5913-4c0c-8204-dc9e3de9225a\" class=\"colab-df-container\">\n",
              "    <div>\n",
              "<style scoped>\n",
              "    .dataframe tbody tr th:only-of-type {\n",
              "        vertical-align: middle;\n",
              "    }\n",
              "\n",
              "    .dataframe tbody tr th {\n",
              "        vertical-align: top;\n",
              "    }\n",
              "\n",
              "    .dataframe thead th {\n",
              "        text-align: right;\n",
              "    }\n",
              "</style>\n",
              "<table border=\"1\" class=\"dataframe\">\n",
              "  <thead>\n",
              "    <tr style=\"text-align: right;\">\n",
              "      <th></th>\n",
              "      <th>X1</th>\n",
              "      <th>X2</th>\n",
              "      <th>X3</th>\n",
              "      <th>X4</th>\n",
              "      <th>X5</th>\n",
              "      <th>X6</th>\n",
              "      <th>X7</th>\n",
              "      <th>X8</th>\n",
              "      <th>X9</th>\n",
              "      <th>X10</th>\n",
              "      <th>...</th>\n",
              "      <th>X471</th>\n",
              "      <th>X472</th>\n",
              "      <th>X473</th>\n",
              "      <th>X474</th>\n",
              "      <th>X475</th>\n",
              "      <th>X476</th>\n",
              "      <th>X477</th>\n",
              "      <th>X478</th>\n",
              "      <th>X479</th>\n",
              "      <th>X480</th>\n",
              "    </tr>\n",
              "  </thead>\n",
              "  <tbody>\n",
              "    <tr>\n",
              "      <th>0</th>\n",
              "      <td>0.668725</td>\n",
              "      <td>0.695764</td>\n",
              "      <td>0.670450</td>\n",
              "      <td>0.674428</td>\n",
              "      <td>0.693568</td>\n",
              "      <td>0.667318</td>\n",
              "      <td>0.657697</td>\n",
              "      <td>0.642340</td>\n",
              "      <td>0.685834</td>\n",
              "      <td>0.696850</td>\n",
              "      <td>...</td>\n",
              "      <td>0.666667</td>\n",
              "      <td>0.750000</td>\n",
              "      <td>0.72</td>\n",
              "      <td>0.727273</td>\n",
              "      <td>0.750000</td>\n",
              "      <td>0.705882</td>\n",
              "      <td>0.695652</td>\n",
              "      <td>0.727273</td>\n",
              "      <td>0.714286</td>\n",
              "      <td>0.72</td>\n",
              "    </tr>\n",
              "    <tr>\n",
              "      <th>1</th>\n",
              "      <td>0.388350</td>\n",
              "      <td>0.394300</td>\n",
              "      <td>0.392937</td>\n",
              "      <td>0.343019</td>\n",
              "      <td>0.426153</td>\n",
              "      <td>0.403011</td>\n",
              "      <td>0.363292</td>\n",
              "      <td>0.325556</td>\n",
              "      <td>0.360339</td>\n",
              "      <td>0.396583</td>\n",
              "      <td>...</td>\n",
              "      <td>0.000000</td>\n",
              "      <td>0.464286</td>\n",
              "      <td>0.56</td>\n",
              "      <td>0.272727</td>\n",
              "      <td>0.666667</td>\n",
              "      <td>0.352941</td>\n",
              "      <td>0.434783</td>\n",
              "      <td>0.424242</td>\n",
              "      <td>0.142857</td>\n",
              "      <td>0.32</td>\n",
              "    </tr>\n",
              "    <tr>\n",
              "      <th>2</th>\n",
              "      <td>0.373591</td>\n",
              "      <td>0.369933</td>\n",
              "      <td>0.417641</td>\n",
              "      <td>0.343976</td>\n",
              "      <td>0.409101</td>\n",
              "      <td>0.324945</td>\n",
              "      <td>0.339684</td>\n",
              "      <td>0.301773</td>\n",
              "      <td>0.363867</td>\n",
              "      <td>0.375773</td>\n",
              "      <td>...</td>\n",
              "      <td>0.571429</td>\n",
              "      <td>0.607143</td>\n",
              "      <td>0.72</td>\n",
              "      <td>0.409091</td>\n",
              "      <td>0.750000</td>\n",
              "      <td>0.352941</td>\n",
              "      <td>0.391304</td>\n",
              "      <td>0.636364</td>\n",
              "      <td>0.571429</td>\n",
              "      <td>0.40</td>\n",
              "    </tr>\n",
              "    <tr>\n",
              "      <th>3</th>\n",
              "      <td>0.239107</td>\n",
              "      <td>0.249200</td>\n",
              "      <td>0.260656</td>\n",
              "      <td>0.126865</td>\n",
              "      <td>0.276469</td>\n",
              "      <td>0.195755</td>\n",
              "      <td>0.173157</td>\n",
              "      <td>0.187642</td>\n",
              "      <td>0.163560</td>\n",
              "      <td>0.223207</td>\n",
              "      <td>...</td>\n",
              "      <td>0.571429</td>\n",
              "      <td>0.392857</td>\n",
              "      <td>0.40</td>\n",
              "      <td>0.181818</td>\n",
              "      <td>0.666667</td>\n",
              "      <td>0.352941</td>\n",
              "      <td>0.347826</td>\n",
              "      <td>0.484848</td>\n",
              "      <td>0.047619</td>\n",
              "      <td>0.32</td>\n",
              "    </tr>\n",
              "    <tr>\n",
              "      <th>4</th>\n",
              "      <td>0.143989</td>\n",
              "      <td>0.243894</td>\n",
              "      <td>0.223357</td>\n",
              "      <td>0.151011</td>\n",
              "      <td>0.236594</td>\n",
              "      <td>0.192321</td>\n",
              "      <td>0.226750</td>\n",
              "      <td>0.145235</td>\n",
              "      <td>0.143681</td>\n",
              "      <td>0.263792</td>\n",
              "      <td>...</td>\n",
              "      <td>0.190476</td>\n",
              "      <td>0.392857</td>\n",
              "      <td>0.48</td>\n",
              "      <td>0.272727</td>\n",
              "      <td>0.000000</td>\n",
              "      <td>0.117647</td>\n",
              "      <td>0.521739</td>\n",
              "      <td>0.363636</td>\n",
              "      <td>0.238095</td>\n",
              "      <td>0.64</td>\n",
              "    </tr>\n",
              "  </tbody>\n",
              "</table>\n",
              "<p>5 rows × 480 columns</p>\n",
              "</div>\n",
              "    <div class=\"colab-df-buttons\">\n",
              "\n",
              "  <div class=\"colab-df-container\">\n",
              "    <button class=\"colab-df-convert\" onclick=\"convertToInteractive('df-063c4f68-5913-4c0c-8204-dc9e3de9225a')\"\n",
              "            title=\"Convert this dataframe to an interactive table.\"\n",
              "            style=\"display:none;\">\n",
              "\n",
              "  <svg xmlns=\"http://www.w3.org/2000/svg\" height=\"24px\" viewBox=\"0 -960 960 960\">\n",
              "    <path d=\"M120-120v-720h720v720H120Zm60-500h600v-160H180v160Zm220 220h160v-160H400v160Zm0 220h160v-160H400v160ZM180-400h160v-160H180v160Zm440 0h160v-160H620v160ZM180-180h160v-160H180v160Zm440 0h160v-160H620v160Z\"/>\n",
              "  </svg>\n",
              "    </button>\n",
              "\n",
              "  <style>\n",
              "    .colab-df-container {\n",
              "      display:flex;\n",
              "      gap: 12px;\n",
              "    }\n",
              "\n",
              "    .colab-df-convert {\n",
              "      background-color: #E8F0FE;\n",
              "      border: none;\n",
              "      border-radius: 50%;\n",
              "      cursor: pointer;\n",
              "      display: none;\n",
              "      fill: #1967D2;\n",
              "      height: 32px;\n",
              "      padding: 0 0 0 0;\n",
              "      width: 32px;\n",
              "    }\n",
              "\n",
              "    .colab-df-convert:hover {\n",
              "      background-color: #E2EBFA;\n",
              "      box-shadow: 0px 1px 2px rgba(60, 64, 67, 0.3), 0px 1px 3px 1px rgba(60, 64, 67, 0.15);\n",
              "      fill: #174EA6;\n",
              "    }\n",
              "\n",
              "    .colab-df-buttons div {\n",
              "      margin-bottom: 4px;\n",
              "    }\n",
              "\n",
              "    [theme=dark] .colab-df-convert {\n",
              "      background-color: #3B4455;\n",
              "      fill: #D2E3FC;\n",
              "    }\n",
              "\n",
              "    [theme=dark] .colab-df-convert:hover {\n",
              "      background-color: #434B5C;\n",
              "      box-shadow: 0px 1px 3px 1px rgba(0, 0, 0, 0.15);\n",
              "      filter: drop-shadow(0px 1px 2px rgba(0, 0, 0, 0.3));\n",
              "      fill: #FFFFFF;\n",
              "    }\n",
              "  </style>\n",
              "\n",
              "    <script>\n",
              "      const buttonEl =\n",
              "        document.querySelector('#df-063c4f68-5913-4c0c-8204-dc9e3de9225a button.colab-df-convert');\n",
              "      buttonEl.style.display =\n",
              "        google.colab.kernel.accessAllowed ? 'block' : 'none';\n",
              "\n",
              "      async function convertToInteractive(key) {\n",
              "        const element = document.querySelector('#df-063c4f68-5913-4c0c-8204-dc9e3de9225a');\n",
              "        const dataTable =\n",
              "          await google.colab.kernel.invokeFunction('convertToInteractive',\n",
              "                                                    [key], {});\n",
              "        if (!dataTable) return;\n",
              "\n",
              "        const docLinkHtml = 'Like what you see? Visit the ' +\n",
              "          '<a target=\"_blank\" href=https://colab.research.google.com/notebooks/data_table.ipynb>data table notebook</a>'\n",
              "          + ' to learn more about interactive tables.';\n",
              "        element.innerHTML = '';\n",
              "        dataTable['output_type'] = 'display_data';\n",
              "        await google.colab.output.renderOutput(dataTable, element);\n",
              "        const docLink = document.createElement('div');\n",
              "        docLink.innerHTML = docLinkHtml;\n",
              "        element.appendChild(docLink);\n",
              "      }\n",
              "    </script>\n",
              "  </div>\n",
              "\n",
              "\n",
              "<div id=\"df-c1cbcf8a-9050-412a-871a-8141cf82728e\">\n",
              "  <button class=\"colab-df-quickchart\" onclick=\"quickchart('df-c1cbcf8a-9050-412a-871a-8141cf82728e')\"\n",
              "            title=\"Suggest charts\"\n",
              "            style=\"display:none;\">\n",
              "\n",
              "<svg xmlns=\"http://www.w3.org/2000/svg\" height=\"24px\"viewBox=\"0 0 24 24\"\n",
              "     width=\"24px\">\n",
              "    <g>\n",
              "        <path d=\"M19 3H5c-1.1 0-2 .9-2 2v14c0 1.1.9 2 2 2h14c1.1 0 2-.9 2-2V5c0-1.1-.9-2-2-2zM9 17H7v-7h2v7zm4 0h-2V7h2v10zm4 0h-2v-4h2v4z\"/>\n",
              "    </g>\n",
              "</svg>\n",
              "  </button>\n",
              "\n",
              "<style>\n",
              "  .colab-df-quickchart {\n",
              "      --bg-color: #E8F0FE;\n",
              "      --fill-color: #1967D2;\n",
              "      --hover-bg-color: #E2EBFA;\n",
              "      --hover-fill-color: #174EA6;\n",
              "      --disabled-fill-color: #AAA;\n",
              "      --disabled-bg-color: #DDD;\n",
              "  }\n",
              "\n",
              "  [theme=dark] .colab-df-quickchart {\n",
              "      --bg-color: #3B4455;\n",
              "      --fill-color: #D2E3FC;\n",
              "      --hover-bg-color: #434B5C;\n",
              "      --hover-fill-color: #FFFFFF;\n",
              "      --disabled-bg-color: #3B4455;\n",
              "      --disabled-fill-color: #666;\n",
              "  }\n",
              "\n",
              "  .colab-df-quickchart {\n",
              "    background-color: var(--bg-color);\n",
              "    border: none;\n",
              "    border-radius: 50%;\n",
              "    cursor: pointer;\n",
              "    display: none;\n",
              "    fill: var(--fill-color);\n",
              "    height: 32px;\n",
              "    padding: 0;\n",
              "    width: 32px;\n",
              "  }\n",
              "\n",
              "  .colab-df-quickchart:hover {\n",
              "    background-color: var(--hover-bg-color);\n",
              "    box-shadow: 0 1px 2px rgba(60, 64, 67, 0.3), 0 1px 3px 1px rgba(60, 64, 67, 0.15);\n",
              "    fill: var(--button-hover-fill-color);\n",
              "  }\n",
              "\n",
              "  .colab-df-quickchart-complete:disabled,\n",
              "  .colab-df-quickchart-complete:disabled:hover {\n",
              "    background-color: var(--disabled-bg-color);\n",
              "    fill: var(--disabled-fill-color);\n",
              "    box-shadow: none;\n",
              "  }\n",
              "\n",
              "  .colab-df-spinner {\n",
              "    border: 2px solid var(--fill-color);\n",
              "    border-color: transparent;\n",
              "    border-bottom-color: var(--fill-color);\n",
              "    animation:\n",
              "      spin 1s steps(1) infinite;\n",
              "  }\n",
              "\n",
              "  @keyframes spin {\n",
              "    0% {\n",
              "      border-color: transparent;\n",
              "      border-bottom-color: var(--fill-color);\n",
              "      border-left-color: var(--fill-color);\n",
              "    }\n",
              "    20% {\n",
              "      border-color: transparent;\n",
              "      border-left-color: var(--fill-color);\n",
              "      border-top-color: var(--fill-color);\n",
              "    }\n",
              "    30% {\n",
              "      border-color: transparent;\n",
              "      border-left-color: var(--fill-color);\n",
              "      border-top-color: var(--fill-color);\n",
              "      border-right-color: var(--fill-color);\n",
              "    }\n",
              "    40% {\n",
              "      border-color: transparent;\n",
              "      border-right-color: var(--fill-color);\n",
              "      border-top-color: var(--fill-color);\n",
              "    }\n",
              "    60% {\n",
              "      border-color: transparent;\n",
              "      border-right-color: var(--fill-color);\n",
              "    }\n",
              "    80% {\n",
              "      border-color: transparent;\n",
              "      border-right-color: var(--fill-color);\n",
              "      border-bottom-color: var(--fill-color);\n",
              "    }\n",
              "    90% {\n",
              "      border-color: transparent;\n",
              "      border-bottom-color: var(--fill-color);\n",
              "    }\n",
              "  }\n",
              "</style>\n",
              "\n",
              "  <script>\n",
              "    async function quickchart(key) {\n",
              "      const quickchartButtonEl =\n",
              "        document.querySelector('#' + key + ' button');\n",
              "      quickchartButtonEl.disabled = true;  // To prevent multiple clicks.\n",
              "      quickchartButtonEl.classList.add('colab-df-spinner');\n",
              "      try {\n",
              "        const charts = await google.colab.kernel.invokeFunction(\n",
              "            'suggestCharts', [key], {});\n",
              "      } catch (error) {\n",
              "        console.error('Error during call to suggestCharts:', error);\n",
              "      }\n",
              "      quickchartButtonEl.classList.remove('colab-df-spinner');\n",
              "      quickchartButtonEl.classList.add('colab-df-quickchart-complete');\n",
              "    }\n",
              "    (() => {\n",
              "      let quickchartButtonEl =\n",
              "        document.querySelector('#df-c1cbcf8a-9050-412a-871a-8141cf82728e button');\n",
              "      quickchartButtonEl.style.display =\n",
              "        google.colab.kernel.accessAllowed ? 'block' : 'none';\n",
              "    })();\n",
              "  </script>\n",
              "</div>\n",
              "\n",
              "    </div>\n",
              "  </div>\n"
            ]
          },
          "metadata": {},
          "execution_count": 14
        }
      ]
    },
    {
      "cell_type": "markdown",
      "source": [
        "# 3.- Exploración"
      ],
      "metadata": {
        "id": "Kq7Ks5v3BiZR"
      }
    },
    {
      "cell_type": "markdown",
      "source": [
        "Debido a la alta dimensionalidad del conjutno de datos, se utiliza análisis de componentes principales"
      ],
      "metadata": {
        "id": "7D_4JWBdBpvN"
      }
    },
    {
      "cell_type": "code",
      "source": [
        "from sklearn.decomposition import PCA\n",
        "\n",
        "pca = PCA(n_components=4)\n",
        "pca.fit(df_X)"
      ],
      "metadata": {
        "colab": {
          "base_uri": "https://localhost:8080/",
          "height": 75
        },
        "id": "1YHASU40DCtm",
        "outputId": "4ed05fdb-775c-4946-ea3f-577f271d6533"
      },
      "execution_count": 30,
      "outputs": [
        {
          "output_type": "execute_result",
          "data": {
            "text/plain": [
              "PCA(n_components=4)"
            ],
            "text/html": [
              "<style>#sk-container-id-2 {color: black;background-color: white;}#sk-container-id-2 pre{padding: 0;}#sk-container-id-2 div.sk-toggleable {background-color: white;}#sk-container-id-2 label.sk-toggleable__label {cursor: pointer;display: block;width: 100%;margin-bottom: 0;padding: 0.3em;box-sizing: border-box;text-align: center;}#sk-container-id-2 label.sk-toggleable__label-arrow:before {content: \"▸\";float: left;margin-right: 0.25em;color: #696969;}#sk-container-id-2 label.sk-toggleable__label-arrow:hover:before {color: black;}#sk-container-id-2 div.sk-estimator:hover label.sk-toggleable__label-arrow:before {color: black;}#sk-container-id-2 div.sk-toggleable__content {max-height: 0;max-width: 0;overflow: hidden;text-align: left;background-color: #f0f8ff;}#sk-container-id-2 div.sk-toggleable__content pre {margin: 0.2em;color: black;border-radius: 0.25em;background-color: #f0f8ff;}#sk-container-id-2 input.sk-toggleable__control:checked~div.sk-toggleable__content {max-height: 200px;max-width: 100%;overflow: auto;}#sk-container-id-2 input.sk-toggleable__control:checked~label.sk-toggleable__label-arrow:before {content: \"▾\";}#sk-container-id-2 div.sk-estimator input.sk-toggleable__control:checked~label.sk-toggleable__label {background-color: #d4ebff;}#sk-container-id-2 div.sk-label input.sk-toggleable__control:checked~label.sk-toggleable__label {background-color: #d4ebff;}#sk-container-id-2 input.sk-hidden--visually {border: 0;clip: rect(1px 1px 1px 1px);clip: rect(1px, 1px, 1px, 1px);height: 1px;margin: -1px;overflow: hidden;padding: 0;position: absolute;width: 1px;}#sk-container-id-2 div.sk-estimator {font-family: monospace;background-color: #f0f8ff;border: 1px dotted black;border-radius: 0.25em;box-sizing: border-box;margin-bottom: 0.5em;}#sk-container-id-2 div.sk-estimator:hover {background-color: #d4ebff;}#sk-container-id-2 div.sk-parallel-item::after {content: \"\";width: 100%;border-bottom: 1px solid gray;flex-grow: 1;}#sk-container-id-2 div.sk-label:hover label.sk-toggleable__label {background-color: #d4ebff;}#sk-container-id-2 div.sk-serial::before {content: \"\";position: absolute;border-left: 1px solid gray;box-sizing: border-box;top: 0;bottom: 0;left: 50%;z-index: 0;}#sk-container-id-2 div.sk-serial {display: flex;flex-direction: column;align-items: center;background-color: white;padding-right: 0.2em;padding-left: 0.2em;position: relative;}#sk-container-id-2 div.sk-item {position: relative;z-index: 1;}#sk-container-id-2 div.sk-parallel {display: flex;align-items: stretch;justify-content: center;background-color: white;position: relative;}#sk-container-id-2 div.sk-item::before, #sk-container-id-2 div.sk-parallel-item::before {content: \"\";position: absolute;border-left: 1px solid gray;box-sizing: border-box;top: 0;bottom: 0;left: 50%;z-index: -1;}#sk-container-id-2 div.sk-parallel-item {display: flex;flex-direction: column;z-index: 1;position: relative;background-color: white;}#sk-container-id-2 div.sk-parallel-item:first-child::after {align-self: flex-end;width: 50%;}#sk-container-id-2 div.sk-parallel-item:last-child::after {align-self: flex-start;width: 50%;}#sk-container-id-2 div.sk-parallel-item:only-child::after {width: 0;}#sk-container-id-2 div.sk-dashed-wrapped {border: 1px dashed gray;margin: 0 0.4em 0.5em 0.4em;box-sizing: border-box;padding-bottom: 0.4em;background-color: white;}#sk-container-id-2 div.sk-label label {font-family: monospace;font-weight: bold;display: inline-block;line-height: 1.2em;}#sk-container-id-2 div.sk-label-container {text-align: center;}#sk-container-id-2 div.sk-container {/* jupyter's `normalize.less` sets `[hidden] { display: none; }` but bootstrap.min.css set `[hidden] { display: none !important; }` so we also need the `!important` here to be able to override the default hidden behavior on the sphinx rendered scikit-learn.org. See: https://github.com/scikit-learn/scikit-learn/issues/21755 */display: inline-block !important;position: relative;}#sk-container-id-2 div.sk-text-repr-fallback {display: none;}</style><div id=\"sk-container-id-2\" class=\"sk-top-container\"><div class=\"sk-text-repr-fallback\"><pre>PCA(n_components=4)</pre><b>In a Jupyter environment, please rerun this cell to show the HTML representation or trust the notebook. <br />On GitHub, the HTML representation is unable to render, please try loading this page with nbviewer.org.</b></div><div class=\"sk-container\" hidden><div class=\"sk-item\"><div class=\"sk-estimator sk-toggleable\"><input class=\"sk-toggleable__control sk-hidden--visually\" id=\"sk-estimator-id-2\" type=\"checkbox\" checked><label for=\"sk-estimator-id-2\" class=\"sk-toggleable__label sk-toggleable__label-arrow\">PCA</label><div class=\"sk-toggleable__content\"><pre>PCA(n_components=4)</pre></div></div></div></div></div>"
            ]
          },
          "metadata": {},
          "execution_count": 30
        }
      ]
    },
    {
      "cell_type": "code",
      "source": [
        "# plot a projection of the first two principal components\n",
        "pca_df = pd.DataFrame(pca.transform(df_X), columns=['PC1', 'PC2', 'PC3', 'PC4'])\n",
        "pca_df = pca_df.join(df_y)\n",
        "sns.lmplot(x='PC1', y='PC2', data=pca_df, fit_reg=False)\n",
        "plt.title('PC1 vs PC2')\n",
        "plt.show()"
      ],
      "metadata": {
        "colab": {
          "base_uri": "https://localhost:8080/",
          "height": 529
        },
        "id": "TYttyDXJEWBI",
        "outputId": "924ec888-df36-4f3a-c1a5-87c206e63033"
      },
      "execution_count": 35,
      "outputs": [
        {
          "output_type": "display_data",
          "data": {
            "text/plain": [
              "<Figure size 500x500 with 1 Axes>"
            ],
            "image/png": "[encoded data removed]"
          },
          "metadata": {}
        }
      ]
    },
    {
      "cell_type": "markdown",
      "source": [
        "# Reducción de la dimensionalidad"
      ],
      "metadata": {
        "id": "ZY5oHKlJL5U7"
      }
    },
    {
      "cell_type": "markdown",
      "source": [
        "Se realiza Análisis de Componentes Principales (PCA) conservando componentes tal que se describa al menos el 85% de la varianza.\n",
        "\n"
      ],
      "metadata": {
        "id": "IfXzaZRJF2pc"
      }
    },
    {
      "cell_type": "code",
      "source": [
        "pca = PCA(n_components = 0.85)\n",
        "df_pca = pca.fit_transform(df_X)\n",
        "df_pca = pd.DataFrame(df_pca)\n",
        "df_pca.head()"
      ],
      "metadata": {
        "colab": {
          "base_uri": "https://localhost:8080/",
          "height": 206
        },
        "id": "iJVua3VXGL5t",
        "outputId": "40837c1c-ec9d-45af-b1ea-5d3eb4b0d9a2"
      },
      "execution_count": 17,
      "outputs": [
        {
          "output_type": "execute_result",
          "data": {
            "text/plain": [
              "          0         1         2         3         4         5         6\n",
              "0  1.338682 -1.434092 -0.018155  0.125231  0.036553  0.008913 -0.043389\n",
              "1 -4.983089 -0.509928  1.811632 -0.694671 -0.480588  0.915455 -0.684707\n",
              "2 -3.775373  1.200490 -1.517871  0.814068 -1.375351  0.511421  0.478122\n",
              "3 -5.312302  1.500384  1.266221  0.453318  0.632313 -0.249129  0.863700\n",
              "4 -5.442346  1.788649  1.259570  0.592518  2.014130 -0.523562 -0.684418"
            ],
            "text/html": [
              "\n",
              "  <div id=\"df-2cfb32f6-fb0f-401b-805b-831a91db7c3f\" class=\"colab-df-container\">\n",
              "    <div>\n",
              "<style scoped>\n",
              "    .dataframe tbody tr th:only-of-type {\n",
              "        vertical-align: middle;\n",
              "    }\n",
              "\n",
              "    .dataframe tbody tr th {\n",
              "        vertical-align: top;\n",
              "    }\n",
              "\n",
              "    .dataframe thead th {\n",
              "        text-align: right;\n",
              "    }\n",
              "</style>\n",
              "<table border=\"1\" class=\"dataframe\">\n",
              "  <thead>\n",
              "    <tr style=\"text-align: right;\">\n",
              "      <th></th>\n",
              "      <th>0</th>\n",
              "      <th>1</th>\n",
              "      <th>2</th>\n",
              "      <th>3</th>\n",
              "      <th>4</th>\n",
              "      <th>5</th>\n",
              "      <th>6</th>\n",
              "    </tr>\n",
              "  </thead>\n",
              "  <tbody>\n",
              "    <tr>\n",
              "      <th>0</th>\n",
              "      <td>1.338682</td>\n",
              "      <td>-1.434092</td>\n",
              "      <td>-0.018155</td>\n",
              "      <td>0.125231</td>\n",
              "      <td>0.036553</td>\n",
              "      <td>0.008913</td>\n",
              "      <td>-0.043389</td>\n",
              "    </tr>\n",
              "    <tr>\n",
              "      <th>1</th>\n",
              "      <td>-4.983089</td>\n",
              "      <td>-0.509928</td>\n",
              "      <td>1.811632</td>\n",
              "      <td>-0.694671</td>\n",
              "      <td>-0.480588</td>\n",
              "      <td>0.915455</td>\n",
              "      <td>-0.684707</td>\n",
              "    </tr>\n",
              "    <tr>\n",
              "      <th>2</th>\n",
              "      <td>-3.775373</td>\n",
              "      <td>1.200490</td>\n",
              "      <td>-1.517871</td>\n",
              "      <td>0.814068</td>\n",
              "      <td>-1.375351</td>\n",
              "      <td>0.511421</td>\n",
              "      <td>0.478122</td>\n",
              "    </tr>\n",
              "    <tr>\n",
              "      <th>3</th>\n",
              "      <td>-5.312302</td>\n",
              "      <td>1.500384</td>\n",
              "      <td>1.266221</td>\n",
              "      <td>0.453318</td>\n",
              "      <td>0.632313</td>\n",
              "      <td>-0.249129</td>\n",
              "      <td>0.863700</td>\n",
              "    </tr>\n",
              "    <tr>\n",
              "      <th>4</th>\n",
              "      <td>-5.442346</td>\n",
              "      <td>1.788649</td>\n",
              "      <td>1.259570</td>\n",
              "      <td>0.592518</td>\n",
              "      <td>2.014130</td>\n",
              "      <td>-0.523562</td>\n",
              "      <td>-0.684418</td>\n",
              "    </tr>\n",
              "  </tbody>\n",
              "</table>\n",
              "</div>\n",
              "    <div class=\"colab-df-buttons\">\n",
              "\n",
              "  <div class=\"colab-df-container\">\n",
              "    <button class=\"colab-df-convert\" onclick=\"convertToInteractive('df-2cfb32f6-fb0f-401b-805b-831a91db7c3f')\"\n",
              "            title=\"Convert this dataframe to an interactive table.\"\n",
              "            style=\"display:none;\">\n",
              "\n",
              "  <svg xmlns=\"http://www.w3.org/2000/svg\" height=\"24px\" viewBox=\"0 -960 960 960\">\n",
              "    <path d=\"M120-120v-720h720v720H120Zm60-500h600v-160H180v160Zm220 220h160v-160H400v160Zm0 220h160v-160H400v160ZM180-400h160v-160H180v160Zm440 0h160v-160H620v160ZM180-180h160v-160H180v160Zm440 0h160v-160H620v160Z\"/>\n",
              "  </svg>\n",
              "    </button>\n",
              "\n",
              "  <style>\n",
              "    .colab-df-container {\n",
              "      display:flex;\n",
              "      gap: 12px;\n",
              "    }\n",
              "\n",
              "    .colab-df-convert {\n",
              "      background-color: #E8F0FE;\n",
              "      border: none;\n",
              "      border-radius: 50%;\n",
              "      cursor: pointer;\n",
              "      display: none;\n",
              "      fill: #1967D2;\n",
              "      height: 32px;\n",
              "      padding: 0 0 0 0;\n",
              "      width: 32px;\n",
              "    }\n",
              "\n",
              "    .colab-df-convert:hover {\n",
              "      background-color: #E2EBFA;\n",
              "      box-shadow: 0px 1px 2px rgba(60, 64, 67, 0.3), 0px 1px 3px 1px rgba(60, 64, 67, 0.15);\n",
              "      fill: #174EA6;\n",
              "    }\n",
              "\n",
              "    .colab-df-buttons div {\n",
              "      margin-bottom: 4px;\n",
              "    }\n",
              "\n",
              "    [theme=dark] .colab-df-convert {\n",
              "      background-color: #3B4455;\n",
              "      fill: #D2E3FC;\n",
              "    }\n",
              "\n",
              "    [theme=dark] .colab-df-convert:hover {\n",
              "      background-color: #434B5C;\n",
              "      box-shadow: 0px 1px 3px 1px rgba(0, 0, 0, 0.15);\n",
              "      filter: drop-shadow(0px 1px 2px rgba(0, 0, 0, 0.3));\n",
              "      fill: #FFFFFF;\n",
              "    }\n",
              "  </style>\n",
              "\n",
              "    <script>\n",
              "      const buttonEl =\n",
              "        document.querySelector('#df-2cfb32f6-fb0f-401b-805b-831a91db7c3f button.colab-df-convert');\n",
              "      buttonEl.style.display =\n",
              "        google.colab.kernel.accessAllowed ? 'block' : 'none';\n",
              "\n",
              "      async function convertToInteractive(key) {\n",
              "        const element = document.querySelector('#df-2cfb32f6-fb0f-401b-805b-831a91db7c3f');\n",
              "        const dataTable =\n",
              "          await google.colab.kernel.invokeFunction('convertToInteractive',\n",
              "                                                    [key], {});\n",
              "        if (!dataTable) return;\n",
              "\n",
              "        const docLinkHtml = 'Like what you see? Visit the ' +\n",
              "          '<a target=\"_blank\" href=https://colab.research.google.com/notebooks/data_table.ipynb>data table notebook</a>'\n",
              "          + ' to learn more about interactive tables.';\n",
              "        element.innerHTML = '';\n",
              "        dataTable['output_type'] = 'display_data';\n",
              "        await google.colab.output.renderOutput(dataTable, element);\n",
              "        const docLink = document.createElement('div');\n",
              "        docLink.innerHTML = docLinkHtml;\n",
              "        element.appendChild(docLink);\n",
              "      }\n",
              "    </script>\n",
              "  </div>\n",
              "\n",
              "\n",
              "<div id=\"df-6e926e2b-f64a-40f0-adac-d2936de60b4a\">\n",
              "  <button class=\"colab-df-quickchart\" onclick=\"quickchart('df-6e926e2b-f64a-40f0-adac-d2936de60b4a')\"\n",
              "            title=\"Suggest charts\"\n",
              "            style=\"display:none;\">\n",
              "\n",
              "<svg xmlns=\"http://www.w3.org/2000/svg\" height=\"24px\"viewBox=\"0 0 24 24\"\n",
              "     width=\"24px\">\n",
              "    <g>\n",
              "        <path d=\"M19 3H5c-1.1 0-2 .9-2 2v14c0 1.1.9 2 2 2h14c1.1 0 2-.9 2-2V5c0-1.1-.9-2-2-2zM9 17H7v-7h2v7zm4 0h-2V7h2v10zm4 0h-2v-4h2v4z\"/>\n",
              "    </g>\n",
              "</svg>\n",
              "  </button>\n",
              "\n",
              "<style>\n",
              "  .colab-df-quickchart {\n",
              "      --bg-color: #E8F0FE;\n",
              "      --fill-color: #1967D2;\n",
              "      --hover-bg-color: #E2EBFA;\n",
              "      --hover-fill-color: #174EA6;\n",
              "      --disabled-fill-color: #AAA;\n",
              "      --disabled-bg-color: #DDD;\n",
              "  }\n",
              "\n",
              "  [theme=dark] .colab-df-quickchart {\n",
              "      --bg-color: #3B4455;\n",
              "      --fill-color: #D2E3FC;\n",
              "      --hover-bg-color: #434B5C;\n",
              "      --hover-fill-color: #FFFFFF;\n",
              "      --disabled-bg-color: #3B4455;\n",
              "      --disabled-fill-color: #666;\n",
              "  }\n",
              "\n",
              "  .colab-df-quickchart {\n",
              "    background-color: var(--bg-color);\n",
              "    border: none;\n",
              "    border-radius: 50%;\n",
              "    cursor: pointer;\n",
              "    display: none;\n",
              "    fill: var(--fill-color);\n",
              "    height: 32px;\n",
              "    padding: 0;\n",
              "    width: 32px;\n",
              "  }\n",
              "\n",
              "  .colab-df-quickchart:hover {\n",
              "    background-color: var(--hover-bg-color);\n",
              "    box-shadow: 0 1px 2px rgba(60, 64, 67, 0.3), 0 1px 3px 1px rgba(60, 64, 67, 0.15);\n",
              "    fill: var(--button-hover-fill-color);\n",
              "  }\n",
              "\n",
              "  .colab-df-quickchart-complete:disabled,\n",
              "  .colab-df-quickchart-complete:disabled:hover {\n",
              "    background-color: var(--disabled-bg-color);\n",
              "    fill: var(--disabled-fill-color);\n",
              "    box-shadow: none;\n",
              "  }\n",
              "\n",
              "  .colab-df-spinner {\n",
              "    border: 2px solid var(--fill-color);\n",
              "    border-color: transparent;\n",
              "    border-bottom-color: var(--fill-color);\n",
              "    animation:\n",
              "      spin 1s steps(1) infinite;\n",
              "  }\n",
              "\n",
              "  @keyframes spin {\n",
              "    0% {\n",
              "      border-color: transparent;\n",
              "      border-bottom-color: var(--fill-color);\n",
              "      border-left-color: var(--fill-color);\n",
              "    }\n",
              "    20% {\n",
              "      border-color: transparent;\n",
              "      border-left-color: var(--fill-color);\n",
              "      border-top-color: var(--fill-color);\n",
              "    }\n",
              "    30% {\n",
              "      border-color: transparent;\n",
              "      border-left-color: var(--fill-color);\n",
              "      border-top-color: var(--fill-color);\n",
              "      border-right-color: var(--fill-color);\n",
              "    }\n",
              "    40% {\n",
              "      border-color: transparent;\n",
              "      border-right-color: var(--fill-color);\n",
              "      border-top-color: var(--fill-color);\n",
              "    }\n",
              "    60% {\n",
              "      border-color: transparent;\n",
              "      border-right-color: var(--fill-color);\n",
              "    }\n",
              "    80% {\n",
              "      border-color: transparent;\n",
              "      border-right-color: var(--fill-color);\n",
              "      border-bottom-color: var(--fill-color);\n",
              "    }\n",
              "    90% {\n",
              "      border-color: transparent;\n",
              "      border-bottom-color: var(--fill-color);\n",
              "    }\n",
              "  }\n",
              "</style>\n",
              "\n",
              "  <script>\n",
              "    async function quickchart(key) {\n",
              "      const quickchartButtonEl =\n",
              "        document.querySelector('#' + key + ' button');\n",
              "      quickchartButtonEl.disabled = true;  // To prevent multiple clicks.\n",
              "      quickchartButtonEl.classList.add('colab-df-spinner');\n",
              "      try {\n",
              "        const charts = await google.colab.kernel.invokeFunction(\n",
              "            'suggestCharts', [key], {});\n",
              "      } catch (error) {\n",
              "        console.error('Error during call to suggestCharts:', error);\n",
              "      }\n",
              "      quickchartButtonEl.classList.remove('colab-df-spinner');\n",
              "      quickchartButtonEl.classList.add('colab-df-quickchart-complete');\n",
              "    }\n",
              "    (() => {\n",
              "      let quickchartButtonEl =\n",
              "        document.querySelector('#df-6e926e2b-f64a-40f0-adac-d2936de60b4a button');\n",
              "      quickchartButtonEl.style.display =\n",
              "        google.colab.kernel.accessAllowed ? 'block' : 'none';\n",
              "    })();\n",
              "  </script>\n",
              "</div>\n",
              "\n",
              "    </div>\n",
              "  </div>\n"
            ]
          },
          "metadata": {},
          "execution_count": 17
        }
      ]
    },
    {
      "cell_type": "markdown",
      "source": [
        "Se observa que con 7 componentes principales se describe el 85% de la varianza"
      ],
      "metadata": {
        "id": "7swrHxCwLtKZ"
      }
    },
    {
      "cell_type": "code",
      "source": [
        "cumulative_variance = np.cumsum(pca.explained_variance_ratio_)*100\n",
        "columns_pca = [str(x) for x in range(0, len(cumulative_variance))]\n",
        "plt.figure(figsize=(5,4))\n",
        "plt.xlabel('Componente')\n",
        "plt.ylabel('Varianza Acumulada Descrita (%)')\n",
        "plt.yticks(range(0, 101, 5))\n",
        "plt.title('Varianza Acumulada de los Componentes Principales')\n",
        "plt.axhline(y=85, color='r', linestyle='--')\n",
        "plt.bar(columns_pca, cumulative_variance)\n",
        "plt.show()"
      ],
      "metadata": {
        "colab": {
          "base_uri": "https://localhost:8080/",
          "height": 410
        },
        "id": "jDBwUJPEjcjH",
        "outputId": "ae44c4cf-6a87-4947-8b0f-ba5b1827b72e"
      },
      "execution_count": 28,
      "outputs": [
        {
          "output_type": "display_data",
          "data": {
            "text/plain": [
              "<Figure size 500x400 with 1 Axes>"
            ],
            "image/png": "[encoded data removed]"
          },
          "metadata": {}
        }
      ]
    },
    {
      "cell_type": "markdown",
      "source": [
        "# Modelado"
      ],
      "metadata": {
        "id": "9dB6LAghMZkB"
      }
    },
    {
      "cell_type": "markdown",
      "source": [
        "## Regresión Lineal"
      ],
      "metadata": {
        "id": "PydI5eOCMbiD"
      }
    },
    {
      "cell_type": "code",
      "source": [
        "from sklearn.linear_model import LinearRegression\n",
        "from sklearn.model_selection import cross_validate\n",
        "\n",
        "LR = LinearRegression()\n",
        "scores_LR = cross_validate(LR, df_X, df_y, cv=10,\n",
        "                           scoring=('r2', 'neg_mean_squared_error'))"
      ],
      "metadata": {
        "id": "6TzvFhjdMiLq"
      },
      "execution_count": 19,
      "outputs": []
    },
    {
      "cell_type": "code",
      "source": [
        "#print(scores_LR)\n",
        "print(\"Promedio de R2: \" + str(np.mean(scores_LR['test_r2'])))\n",
        "print(\"Promedio de errores cuadráticos promedios negativos : \" +\n",
        "      str(np.mean(scores_LR['test_neg_mean_squared_error'])))"
      ],
      "metadata": {
        "colab": {
          "base_uri": "https://localhost:8080/"
        },
        "id": "fR2Ik_moYa1F",
        "outputId": "663c5ac1-0bf3-4aad-c296-bae6617217c1"
      },
      "execution_count": 20,
      "outputs": [
        {
          "output_type": "stream",
          "name": "stdout",
          "text": [
            "Promedio de R2: -196.28851684154182\n",
            "Promedio de errores cuadráticos promedios negativos : -5.989700561210622\n"
          ]
        }
      ]
    },
    {
      "cell_type": "markdown",
      "source": [
        "## Descenso de Gradiente Estocástico"
      ],
      "metadata": {
        "id": "5tJ6WR5XMd8X"
      }
    },
    {
      "cell_type": "code",
      "source": [
        "from sklearn.linear_model import SGDRegressor\n",
        "\n",
        "SDG = SGDRegressor(n_iter_no_change=250, penalty=None, eta0=0.0001, max_iter=100000)\n",
        "scores_SDG = cross_validate(SDG, df_X, df_y['Y'], cv=10,\n",
        "                           scoring=('r2', 'neg_mean_squared_error'))\n"
      ],
      "metadata": {
        "id": "c0HGNcaIMiyf"
      },
      "execution_count": 21,
      "outputs": []
    },
    {
      "cell_type": "code",
      "source": [
        "#print(scores_SDG)\n",
        "print(\"Promedio de R2: \" + str(np.mean(scores_SDG['test_r2'])))\n",
        "print(\"Promedio de errores cuadráticos promedios negativos : \" +\n",
        "      str(np.mean(scores_SDG['test_neg_mean_squared_error'])))"
      ],
      "metadata": {
        "colab": {
          "base_uri": "https://localhost:8080/"
        },
        "id": "TqhdjlKqYZtF",
        "outputId": "61d4a056-ce6a-449d-f648-92ffdf4b0b76"
      },
      "execution_count": 22,
      "outputs": [
        {
          "output_type": "stream",
          "name": "stdout",
          "text": [
            "Promedio de R2: -57.17235945123264\n",
            "Promedio de errores cuadráticos promedios negativos : -2.4753474646499334\n"
          ]
        }
      ]
    },
    {
      "cell_type": "markdown",
      "source": [
        "# Resultados"
      ],
      "metadata": {
        "id": "ex62jbkWcHwM"
      }
    },
    {
      "cell_type": "markdown",
      "source": [
        "Resultados regresión lineal"
      ],
      "metadata": {
        "id": "D0bT9AvBcOaQ"
      }
    },
    {
      "cell_type": "code",
      "source": [
        "fig = plt.figure(figsize =(2, 3))\n",
        "\n",
        "# Creating plot\n",
        "plt.boxplot(scores_LR['test_r2'])\n",
        "plt.xlabel('R2 Regresión Lineal')\n",
        "# show plot\n",
        "plt.show()"
      ],
      "metadata": {
        "colab": {
          "base_uri": "https://localhost:8080/",
          "height": 311
        },
        "id": "g5-IVQ86cJbn",
        "outputId": "d307c258-4e46-4eb5-ce04-c1861845c07a"
      },
      "execution_count": 52,
      "outputs": [
        {
          "output_type": "display_data",
          "data": {
            "text/plain": [
              "<Figure size 200x300 with 1 Axes>"
            ],
            "image/png": "[encoded data removed]"
          },
          "metadata": {}
        }
      ]
    },
    {
      "cell_type": "code",
      "source": [
        "fig = plt.figure(figsize =(2, 3))\n",
        "\n",
        "# Creating plot\n",
        "plt.boxplot(scores_LR['test_neg_mean_squared_error'])\n",
        "plt.ylim(-15, 0)\n",
        "plt.xlabel('NMSE Regresión Lineal')\n",
        "# show plot\n",
        "plt.show()"
      ],
      "metadata": {
        "colab": {
          "base_uri": "https://localhost:8080/",
          "height": 317
        },
        "id": "FuykPoQAc0Sn",
        "outputId": "d66b851f-1e6c-4ad0-d306-a20592209b50"
      },
      "execution_count": 57,
      "outputs": [
        {
          "output_type": "display_data",
          "data": {
            "text/plain": [
              "<Figure size 200x300 with 1 Axes>"
            ],
            "image/png": "[encoded data removed]"
          },
          "metadata": {}
        }
      ]
    },
    {
      "cell_type": "markdown",
      "source": [
        "Resultados descenso de Gradiente Estocástico"
      ],
      "metadata": {
        "id": "KxjD6yRmdkdJ"
      }
    },
    {
      "cell_type": "code",
      "source": [
        "fig = plt.figure(figsize =(2, 3))\n",
        "\n",
        "# Creating plot\n",
        "plt.boxplot(scores_SDG['test_r2'])\n",
        "plt.xlabel('R2 SDG')\n",
        "# show plot\n",
        "plt.show()"
      ],
      "metadata": {
        "colab": {
          "base_uri": "https://localhost:8080/",
          "height": 311
        },
        "id": "joqHOlYpdq_R",
        "outputId": "3b53656d-e32a-4560-ea2a-94cd44933632"
      },
      "execution_count": 54,
      "outputs": [
        {
          "output_type": "display_data",
          "data": {
            "text/plain": [
              "<Figure size 200x300 with 1 Axes>"
            ],
            "image/png": "[encoded data removed]"
          },
          "metadata": {}
        }
      ]
    },
    {
      "cell_type": "code",
      "source": [
        "fig = plt.figure(figsize =(2, 3))\n",
        "\n",
        "# Creating plot\n",
        "plt.boxplot(scores_SDG['test_neg_mean_squared_error'])\n",
        "plt.ylim(-15, 0)\n",
        "plt.xlabel('NMSE SDG')\n",
        "# show plot\n",
        "plt.show()"
      ],
      "metadata": {
        "colab": {
          "base_uri": "https://localhost:8080/",
          "height": 316
        },
        "id": "U5S5t5aNdvZY",
        "outputId": "9a5d7e52-3929-453e-c520-b569ec53c3c1"
      },
      "execution_count": 58,
      "outputs": [
        {
          "output_type": "display_data",
          "data": {
            "text/plain": [
              "<Figure size 200x300 with 1 Axes>"
            ],
            "image/png": "[encoded data removed]"
          },
          "metadata": {}
        }
      ]
    },
    {
      "cell_type": "code",
      "source": [
        "Datos en texto"
      ],
      "metadata": {
        "id": "0263V7Dlu-sy"
      },
      "execution_count": null,
      "outputs": []
    },
    {
      "cell_type": "code",
      "source": [
        "mean_value_LR_R2 = np.mean(scores_LR['test_r2'])\n",
        "std_deviation_LR_R2 = np.std(scores_LR['test_r2'])\n",
        "\n",
        "mean_value_SDG_R2 = np.mean(scores_SDG['test_r2'])\n",
        "std_deviation_SDG_R2 = np.std(scores_SDG['test_r2'])\n",
        "\n",
        "mean_value_LR_NMSE = np.mean(scores_LR['test_neg_mean_squared_error'])\n",
        "std_deviation_LR_NMSE = np.std(scores_LR['test_neg_mean_squared_error'])\n",
        "\n",
        "mean_value_SDG_NMSE = np.mean(scores_SDG['test_neg_mean_squared_error'])\n",
        "std_deviation_SDG_NMSE = np.std(scores_SDG['test_neg_mean_squared_error'])\n",
        "\n",
        "# Print the results\n",
        "print(f\"mean_value_LR_R2: {mean_value_LR_R2}\")\n",
        "print(f\"std_deviation_LR_R2 : {std_deviation_LR_R2}\")\n",
        "print(\"\")\n",
        "print(f\"mean_value_SDG_R2: {mean_value_SDG_R2}\")\n",
        "print(f\"std_deviation_SDG_R2 : {std_deviation_SDG_R2}\")\n",
        "print(\"\")\n",
        "print(f\"mean_value_LR_NMSE: {mean_value_LR_NMSE}\")\n",
        "print(f\"std_deviation_LR_NMSE : {std_deviation_LR_NMSE}\")\n",
        "print(\"\")\n",
        "print(f\"mean_value_SDG_NMSE: {mean_value_SDG_NMSE}\")\n",
        "print(f\"std_deviation_SDG_NMSE : {std_deviation_SDG_NMSE}\")"
      ],
      "metadata": {
        "colab": {
          "base_uri": "https://localhost:8080/"
        },
        "id": "hs0EwLzrvgFP",
        "outputId": "afdce92b-ba25-4bbb-c04b-73eccc97b69d"
      },
      "execution_count": 44,
      "outputs": [
        {
          "output_type": "stream",
          "name": "stdout",
          "text": [
            "mean_value_LR_R2: -196.28851684154182\n",
            "std_deviation_LR_R2 : 183.3851050972126\n",
            "\n",
            "mean_value_SDG_R2: -57.17235945123264\n",
            "std_deviation_SDG_R2 : 62.7053696898561\n",
            "\n",
            "mean_value_LR_NMSE: -5.989700561210622\n",
            "std_deviation_LR_NMSE : 2.644640476310965\n",
            "\n",
            "mean_value_SDG_NMSE: -2.4753474646499334\n",
            "std_deviation_SDG_NMSE : 2.0975167094125786\n"
          ]
        }
      ]
    }
  ]
}